{
 "cells": [
  {
   "cell_type": "code",
   "execution_count": 5,
   "id": "19d64062-b4e1-4206-8184-979e729d2aed",
   "metadata": {},
   "outputs": [],
   "source": [
    "import cv2\n",
    "import os\n",
    "\n",
    "def images_to_video(image_folder, video_name, fps=30):\n",
    "    images = [img for img in os.listdir(image_folder) if img.endswith(\".png\")]\n",
    "    # Sort images based on the numerical part of the filename\n",
    "    images.sort(key=lambda x: int(x.split('_')[-1].split('.')[0]))\n",
    "\n",
    "    frame = cv2.imread(os.path.join(image_folder, images[0]))\n",
    "    height, width, layers = frame.shape\n",
    "\n",
    "    video = cv2.VideoWriter(video_name, cv2.VideoWriter_fourcc(*'mp4v'), fps, (width, height))\n",
    "\n",
    "    for image in images:\n",
    "        video.write(cv2.imread(os.path.join(image_folder, image)))\n",
    "\n",
    "    cv2.destroyAllWindows()\n",
    "    video.release()\n",
    "\n",
    "images_to_video('C:/Users/Owner/Desktop/fyp/Labelling/testimages', 'C:/Users/Owner/Desktop/fyp/Labelling/testimages/test_images_15.mp4', fps=15)\n"
   ]
  },
  {
   "cell_type": "code",
   "execution_count": null,
   "id": "608c859d-3f7f-45c8-8cd6-984aa00ca8a1",
   "metadata": {},
   "outputs": [],
   "source": []
  }
 ],
 "metadata": {
  "kernelspec": {
   "display_name": "Python 3 (ipykernel)",
   "language": "python",
   "name": "python3"
  },
  "language_info": {
   "codemirror_mode": {
    "name": "ipython",
    "version": 3
   },
   "file_extension": ".py",
   "mimetype": "text/x-python",
   "name": "python",
   "nbconvert_exporter": "python",
   "pygments_lexer": "ipython3",
   "version": "3.11.7"
  }
 },
 "nbformat": 4,
 "nbformat_minor": 5
}
